{
 "cells": [
  {
   "cell_type": "markdown",
   "metadata": {},
   "source": [
    "<img align=\"center\" src=\"https://i.pinimg.com/originals/f9/20/5f/f9205f36282c0ba4b6e120602a45a02e.png\" height=\"1200\" width=\"1200\"> "
   ]
  },
  {
   "cell_type": "markdown",
   "metadata": {},
   "source": [
    "# Врываемся в python\n",
    "\n",
    "На этом семинаре мы ворвёмся в питон и порешаем задачки. До этого вы на Dataсamp прошли довольно много курсов, которые должны были помочь вам освоить азы языка. __Цель на семинар__\n",
    "\n",
    "* Запустить анаконду быстрее, чем за 20 минут. \n",
    "* Убедится, что после прохождения Datacamp мы довольно много знаем, но ещё больше нам предстоит изучить :) \n",
    "\n",
    "\n",
    "# Где мы? \n",
    "\n",
    "Jupyter Notebook - интерактивная среда для запуска программного кода в браузере. Удобный инструмент для анализа данных, который используется многими специалистами по data science. Позволяет выполнять отдельные ячейки с кодом, а не всю программу сразу, что очень удобно при исследованиях и последовательных манипуляциях с данными.\n",
    "\n",
    "Напиши в ячейке ниже `2 + 2` и нажми на кнопки __Shift__ и __Enter__ одновременно. Твой код выполнится и ты увидишь ответ. Дальше так и будем писать код. "
   ]
  },
  {
   "cell_type": "code",
   "execution_count": 1,
   "metadata": {},
   "outputs": [
    {
     "data": {
      "text/plain": [
       "4"
      ]
     },
     "execution_count": 1,
     "metadata": {},
     "output_type": "execute_result"
    }
   ],
   "source": [
    "2+2\n"
   ]
  },
  {
   "cell_type": "markdown",
   "metadata": {},
   "source": [
    "<center>\n",
    "<img src=\"http://i0.kym-cdn.com/photos/images/original/000/234/765/b7e.jpg\" height=\"400\" width=\"400\">"
   ]
  },
  {
   "cell_type": "markdown",
   "metadata": {},
   "source": [
    "# 1. Листы\n",
    "\n",
    "Листы это чулан с хламом. Туда можно сваливать что угодно. Например, вот так:\n",
    "\n",
    "```python\n",
    "items = [1, 2, 3, [-5, -6], 'b']\n",
    "```"
   ]
  },
  {
   "cell_type": "markdown",
   "metadata": {},
   "source": [
    "У хоббитов в чулане с хламом `items` завалялась куча цифр. Они хотят показать Гендальфу, что эти цифры полезные. Помоги им. "
   ]
  },
  {
   "cell_type": "code",
   "execution_count": 2,
   "metadata": {},
   "outputs": [
    {
     "data": {
      "text/plain": [
       "[5, -24, 76, 44, 4, -16, 57, 0, -11, 98, 13, 80, 16, 30, -27, -21, 78, 72]"
      ]
     },
     "execution_count": 2,
     "metadata": {},
     "output_type": "execute_result"
    }
   ],
   "source": [
    "# числа хоббитов:\n",
    "items = [5, -24, 76, 44, 4, -16, 57, 0, -11,\n",
    "         98, 13, 80, 16, 30, -27, -21, 78, 72]\n",
    "items"
   ]
  },
  {
   "cell_type": "markdown",
   "metadata": {},
   "source": [
    "### Задачка 0:\n",
    "\n",
    "Найди произведение первого и последнего элемента из чулана с хламом (листа) `items`."
   ]
  },
  {
   "cell_type": "code",
   "execution_count": 3,
   "metadata": {},
   "outputs": [
    {
     "data": {
      "text/plain": [
       "360"
      ]
     },
     "execution_count": 3,
     "metadata": {},
     "output_type": "execute_result"
    }
   ],
   "source": [
    "items[0] * items[-1]"
   ]
  },
  {
   "cell_type": "markdown",
   "metadata": {},
   "source": [
    "### Задачка 1: \n",
    "\n",
    "Найди частное суммы первых трех элементов, начиная со второго и суммы последних двух элементов"
   ]
  },
  {
   "cell_type": "code",
   "execution_count": 4,
   "metadata": {},
   "outputs": [
    {
     "data": {
      "text/plain": [
       "0.64"
      ]
     },
     "execution_count": 4,
     "metadata": {},
     "output_type": "execute_result"
    }
   ],
   "source": [
    "s1 = items[1:4]\n",
    "s2 = items[-2:]\n",
    "result = sum(s1) / sum(s2)\n",
    "result"
   ]
  },
  {
   "cell_type": "markdown",
   "metadata": {},
   "source": [
    "### Задачка 2:\n",
    "\n",
    "Найди размах выборки (разницу между максимальным и минимальным элементами)"
   ]
  },
  {
   "cell_type": "code",
   "execution_count": 5,
   "metadata": {},
   "outputs": [
    {
     "data": {
      "text/plain": [
       "125"
      ]
     },
     "execution_count": 5,
     "metadata": {},
     "output_type": "execute_result"
    }
   ],
   "source": [
    "result2 = max(items) - min(items)\n",
    "result2"
   ]
  },
  {
   "cell_type": "markdown",
   "metadata": {},
   "source": [
    "### Задачка 3:\n",
    "\n",
    "Найди среднее значение: $\\displaystyle \\frac{1}{n}\\sum_{i=1}^n a_i$, где $n$ - размер выборки"
   ]
  },
  {
   "cell_type": "code",
   "execution_count": 6,
   "metadata": {},
   "outputs": [
    {
     "data": {
      "text/plain": [
       "26.333333333333332"
      ]
     },
     "execution_count": 6,
     "metadata": {},
     "output_type": "execute_result"
    }
   ],
   "source": [
    "result3 = sum(items) / len(items)\n",
    "result3"
   ]
  },
  {
   "cell_type": "markdown",
   "metadata": {},
   "source": [
    "### Задачка 4\n",
    "\n",
    "Найди медиану."
   ]
  },
  {
   "cell_type": "markdown",
   "metadata": {},
   "source": [
    "Расчет медианы при не большом количестве данных. <br> \n",
    "Если четное количество значений находим два значение в середине, складываем и делим на <br>\n",
    "Если не четное, медиана будет считаться значение, которое находиться по середине"
   ]
  },
  {
   "cell_type": "code",
   "execution_count": 7,
   "metadata": {},
   "outputs": [
    {
     "data": {
      "text/plain": [
       "18"
      ]
     },
     "execution_count": 7,
     "metadata": {},
     "output_type": "execute_result"
    }
   ],
   "source": [
    "len(items)"
   ]
  },
  {
   "cell_type": "code",
   "execution_count": 8,
   "metadata": {
    "scrolled": true
   },
   "outputs": [
    {
     "data": {
      "text/plain": [
       "[-27, -24, -21, -16, -11, 0, 4, 5, 13, 16, 30, 44, 57, 72, 76, 78, 80, 98]"
      ]
     },
     "execution_count": 8,
     "metadata": {},
     "output_type": "execute_result"
    }
   ],
   "source": [
    "value = sorted(items)\n",
    "value"
   ]
  },
  {
   "cell_type": "code",
   "execution_count": 9,
   "metadata": {},
   "outputs": [
    {
     "data": {
      "text/plain": [
       "16"
      ]
     },
     "execution_count": 9,
     "metadata": {},
     "output_type": "execute_result"
    }
   ],
   "source": [
    "value[len(items)//2]"
   ]
  },
  {
   "cell_type": "code",
   "execution_count": 10,
   "metadata": {},
   "outputs": [
    {
     "data": {
      "text/plain": [
       "13"
      ]
     },
     "execution_count": 10,
     "metadata": {},
     "output_type": "execute_result"
    }
   ],
   "source": [
    "value[len(items)//2-1]"
   ]
  },
  {
   "cell_type": "code",
   "execution_count": 11,
   "metadata": {},
   "outputs": [
    {
     "data": {
      "text/plain": [
       "14.5"
      ]
     },
     "execution_count": 11,
     "metadata": {},
     "output_type": "execute_result"
    }
   ],
   "source": [
    "median = (value[len(items)//2]+value[len(items)//2-1])/2\n",
    "median"
   ]
  },
  {
   "cell_type": "code",
   "execution_count": 12,
   "metadata": {},
   "outputs": [
    {
     "data": {
      "text/plain": [
       "[98, 80, 78, 76, 72, 57, 44, 30, 16, 13, 5, 4, 0, -11, -16, -21, -24, -27]"
      ]
     },
     "execution_count": 12,
     "metadata": {},
     "output_type": "execute_result"
    }
   ],
   "source": [
    "sorted(items, reverse=True)"
   ]
  },
  {
   "cell_type": "markdown",
   "metadata": {},
   "source": [
    "### Задачка 5\n",
    "\n",
    "Фродо кажется, что третье значение из чулана не понравится Гендальфу. Удали это значение и найди медиану."
   ]
  },
  {
   "cell_type": "code",
   "execution_count": 13,
   "metadata": {},
   "outputs": [
    {
     "data": {
      "text/plain": [
       "[-27, -24, -21, -16, -11, 0, 4, 5, 13, 16, 30, 44, 57, 72, 78, 80, 98]"
      ]
     },
     "execution_count": 13,
     "metadata": {},
     "output_type": "execute_result"
    }
   ],
   "source": [
    "items_ = items.copy()\n",
    "items_.remove(items_[2])\n",
    "items_.sort()\n",
    "items_"
   ]
  },
  {
   "cell_type": "code",
   "execution_count": 14,
   "metadata": {},
   "outputs": [
    {
     "data": {
      "text/plain": [
       "17"
      ]
     },
     "execution_count": 14,
     "metadata": {},
     "output_type": "execute_result"
    }
   ],
   "source": [
    "median2 = len(items_)\n",
    "median2"
   ]
  },
  {
   "cell_type": "code",
   "execution_count": 15,
   "metadata": {},
   "outputs": [
    {
     "name": "stdout",
     "output_type": "stream",
     "text": [
      "[-27, -24, -21, -16, -11, 0, 4, 5, 13, 16, 30, 44, 57, 72, 78, 80, 98]\n"
     ]
    },
    {
     "data": {
      "text/plain": [
       "13"
      ]
     },
     "execution_count": 15,
     "metadata": {},
     "output_type": "execute_result"
    }
   ],
   "source": [
    "median2 = len(items_)\n",
    "print(items_)\n",
    "if median2 % 2 == 0:\n",
    "    res = (items_[int((median2 - 1) / 2)] + items_[int((median2 - 1) / 2) + 1]) / 2\n",
    "else:\n",
    "    res = items_[median2 // 2]\n",
    "\n",
    "res"
   ]
  },
  {
   "cell_type": "markdown",
   "metadata": {},
   "source": [
    "### Задачка 6\n",
    "\n",
    "Хобиты хотят взять все числа из своего хлама и возвести их в квадрат. Сэм уверен, что квадратный хлам сильнее впечатлит Гендальфа, чем обычный. Помоги им. "
   ]
  },
  {
   "cell_type": "code",
   "execution_count": 16,
   "metadata": {},
   "outputs": [
    {
     "name": "stdout",
     "output_type": "stream",
     "text": [
      "25\n",
      "576\n",
      "5776\n",
      "1936\n",
      "16\n",
      "256\n",
      "3249\n",
      "0\n",
      "121\n",
      "9604\n",
      "169\n",
      "6400\n",
      "256\n",
      "900\n",
      "729\n",
      "441\n",
      "6084\n",
      "5184\n"
     ]
    }
   ],
   "source": [
    "for i in items:\n",
    "    print(i**2)"
   ]
  },
  {
   "cell_type": "markdown",
   "metadata": {},
   "source": [
    "### Задачка 7\n",
    "\n",
    "Фродо заметил, что среди чисел встречаются отрицательные. Ему кажется, что Гендальф не любит нули. Помоги Фродо выкинуть их."
   ]
  },
  {
   "cell_type": "code",
   "execution_count": 17,
   "metadata": {},
   "outputs": [
    {
     "data": {
      "text/plain": [
       "[5, -24, 76, 44, 4, -16, 57, -11, 98, 13, 80, 16, 30, -27, -21, 78, 72]"
      ]
     },
     "execution_count": 17,
     "metadata": {},
     "output_type": "execute_result"
    }
   ],
   "source": [
    "res = [a for a in items if a != 0]\n",
    "res"
   ]
  },
  {
   "cell_type": "markdown",
   "metadata": {},
   "source": [
    "### Задачка 8\n",
    "\n",
    "Чисел стало как-то маловато. Мерри думает, что нужно не надо ничего выкидывать. Отрицательные числа надо заменять на нули. Помоги ему."
   ]
  },
  {
   "cell_type": "code",
   "execution_count": 18,
   "metadata": {},
   "outputs": [
    {
     "data": {
      "text/plain": [
       "[5, 0, 76, 44, 4, 0, 57, 0, 0, 98, 13, 80, 16, 30, 0, 0, 78, 72]"
      ]
     },
     "execution_count": 18,
     "metadata": {},
     "output_type": "execute_result"
    }
   ],
   "source": [
    "res = [a if a > 0 else 0 for a in items]\n",
    "res"
   ]
  },
  {
   "cell_type": "markdown",
   "metadata": {},
   "source": [
    "### Задачка 9\n",
    "\n",
    "Пипин понял, что не надо ничего выкидывать. Надо всё просто сделать \"по красоте\". В понимании Пипина \"по красоте\" это: \n",
    "\n",
    "- сначала в чулане идут элементы меньше нуля, в порядке возрастания\n",
    "- затем больше нуля, в порядке убывания\n",
    "\n",
    "Помоги Пипину. "
   ]
  },
  {
   "cell_type": "code",
   "execution_count": 19,
   "metadata": {},
   "outputs": [
    {
     "data": {
      "text/plain": [
       "[-27, -24, -21, -16, -11, 98, 80, 78, 76, 72, 57, 44, 30, 16, 13, 5, 4, 0]"
      ]
     },
     "execution_count": 19,
     "metadata": {},
     "output_type": "execute_result"
    }
   ],
   "source": [
    "res = []\n",
    "res += sorted([a for a in items if a < 0])\n",
    "res += sorted([a for a in items if a >= 0], reverse=True)\n",
    "res"
   ]
  },
  {
   "cell_type": "markdown",
   "metadata": {},
   "source": [
    "# 2. Словари\n",
    "\n",
    "Бильбо приехал в деревню, увидел, что хоббиты сделали со списками и понял, что это точно не понравится Гендальфу. У него есть идея посвежее: словари. Он собирается заставить все хоббитов изучить их поподробнее. "
   ]
  },
  {
   "cell_type": "code",
   "execution_count": 20,
   "metadata": {},
   "outputs": [],
   "source": [
    "items = {3: -2,\n",
    "         4: 'value1',\n",
    "         22: 2,\n",
    "         10: 1.22}"
   ]
  },
  {
   "cell_type": "markdown",
   "metadata": {},
   "source": [
    "### Задачка 1\n",
    "\n",
    "Бильбо хочет, чтобы Фродо добавил в словарик по ключу `1` значение `-20`. Помоги ему."
   ]
  },
  {
   "cell_type": "code",
   "execution_count": 21,
   "metadata": {},
   "outputs": [
    {
     "data": {
      "text/plain": [
       "{3: -2, 4: 'value1', 22: 2, 10: 1.22, 1: -20}"
      ]
     },
     "execution_count": 21,
     "metadata": {},
     "output_type": "execute_result"
    }
   ],
   "source": [
    "items[1] = -20\n",
    "items"
   ]
  },
  {
   "cell_type": "code",
   "execution_count": 22,
   "metadata": {},
   "outputs": [
    {
     "data": {
      "text/plain": [
       "-20"
      ]
     },
     "execution_count": 22,
     "metadata": {},
     "output_type": "execute_result"
    }
   ],
   "source": [
    "items[1]"
   ]
  },
  {
   "cell_type": "markdown",
   "metadata": {},
   "source": [
    "### Задачка 2\n",
    "\n",
    "Сэм спросил у Бильбо, какое значение лежит в словаре по самому маленькому ключу. Бильбо не знает. Помоги Бильбо ответить на вопрос Сэма."
   ]
  },
  {
   "cell_type": "code",
   "execution_count": 23,
   "metadata": {},
   "outputs": [
    {
     "data": {
      "text/plain": [
       "-20"
      ]
     },
     "execution_count": 23,
     "metadata": {},
     "output_type": "execute_result"
    }
   ],
   "source": [
    "items[min(items.keys())]"
   ]
  },
  {
   "cell_type": "markdown",
   "metadata": {},
   "source": [
    "### Задачка 3\n",
    "\n",
    "Мэри заметил, что этот ключ добавил Фродо. Помогите Мэри удалить его и заново решить __задачку 2.__"
   ]
  },
  {
   "cell_type": "code",
   "execution_count": 24,
   "metadata": {},
   "outputs": [
    {
     "data": {
      "text/plain": [
       "-2"
      ]
     },
     "execution_count": 24,
     "metadata": {},
     "output_type": "execute_result"
    }
   ],
   "source": [
    "items.pop(1)\n",
    "items[min(items.keys())]"
   ]
  },
  {
   "cell_type": "markdown",
   "metadata": {},
   "source": [
    "### Задачка 4\n",
    "\n",
    "Пипину мало одного словаря. Он хочет три. "
   ]
  },
  {
   "cell_type": "code",
   "execution_count": 25,
   "metadata": {},
   "outputs": [],
   "source": [
    "dict_1 = {1: 10, 2: 20} \n",
    "dict_2 = {3: 30, 4: 40} \n",
    "dict_3 = {3: 50, 6: 60}"
   ]
  },
  {
   "cell_type": "markdown",
   "metadata": {},
   "source": [
    "Бильбо не понравилось, что словарей три, а Гендальф скоро приедет. Помогите ему объединить все словарки в один. Что происходит со значением, которое лежит по ключу `3`? "
   ]
  },
  {
   "cell_type": "code",
   "execution_count": 26,
   "metadata": {},
   "outputs": [
    {
     "data": {
      "text/plain": [
       "{1: 10, 2: 20, 3: 50, 4: 40, 6: 60}"
      ]
     },
     "execution_count": 26,
     "metadata": {},
     "output_type": "execute_result"
    }
   ],
   "source": [
    "dict_all = {}\n",
    "dict_all.update(dict_1)\n",
    "dict_all.update(dict_2)\n",
    "dict_all.update(dict_3)\n",
    "dict_all"
   ]
  },
  {
   "cell_type": "markdown",
   "metadata": {},
   "source": [
    "### Задачка 5\n",
    "\n",
    "Бильбо хочет заменить в словаре все значения на их квадраты. Помоги ему. "
   ]
  },
  {
   "cell_type": "code",
   "execution_count": 27,
   "metadata": {},
   "outputs": [
    {
     "data": {
      "text/plain": [
       "{1: 100, 2: 400, 3: 2500, 4: 1600, 6: 3600}"
      ]
     },
     "execution_count": 27,
     "metadata": {},
     "output_type": "execute_result"
    }
   ],
   "source": [
    "res = {key: value**2 for key, value in dict_all.items()}\n",
    "res"
   ]
  },
  {
   "cell_type": "markdown",
   "metadata": {},
   "source": [
    "# 3. Условия\n",
    "\n",
    "Синтаксис:\n",
    "\n",
    "```python\n",
    "if условие:\n",
    "    что делать, если оно выполнено \n",
    "elif условие:\n",
    "    что делать, если оно выполнено \n",
    "else:\n",
    "    что делать, если не выполнилось ни одно условие выше\n",
    "```\n",
    "\n",
    "Всё, что происходит внутри условия, отделяется отступом."
   ]
  },
  {
   "cell_type": "markdown",
   "metadata": {},
   "source": [
    "### Задачка 1\n",
    "\n",
    "В копях Мории хоббиты нашли стену, на которой высечены разные натуральные числа. Согласно древним сказаниям, это даты сражений. Но великие сражения происходили только по високосным годам. Помогите хоббитам определить, является ли год с данным числом датой великого сражения. Если это так, то выведите YOU SHALL PASS, иначе выведите YOU SHALL NOT PASS. Напомним, что в соответствии с хоббитским календарем, год является високосным, если его номер кратен 4, но не кратен 100, а также если он кратен 400.\n",
    "\n",
    "**Пример:**\n",
    "\n",
    "> Входные данные:<br />\n",
    "4<br />\n",
    "\n",
    "> Вывод программы: <br />\n",
    "YES"
   ]
  },
  {
   "cell_type": "code",
   "execution_count": 30,
   "metadata": {},
   "outputs": [
    {
     "name": "stdout",
     "output_type": "stream",
     "text": [
      "YES\n"
     ]
    }
   ],
   "source": [
    "year = 2020\n",
    "if (year % 4 == 0 and year % 100 != 0) or year % 100 == 0:\n",
    "    print('YES')\n",
    "else:\n",
    "    print('NO')"
   ]
  },
  {
   "cell_type": "markdown",
   "metadata": {},
   "source": [
    "# 4. Циклы\n",
    "\n",
    "\n",
    "Синтаксис:\n",
    "\n",
    "```python\n",
    "for i in диапазон_изменений_i:\n",
    "    команды\n",
    "```\n",
    "\n",
    "Все, что происходит внутри цикла, отделяется отступом."
   ]
  },
  {
   "cell_type": "markdown",
   "metadata": {},
   "source": [
    "### Задачка 1\n",
    "\n",
    "\n",
    "Напиши программу для вывода картинки заданной глубины (используйте вложенные циклы). Никто не знает зачем это понадобилось Хоббитам.\n",
    "\n",
    "> Входные данные:<br />\n",
    "5<br />\n",
    "\n",
    "> Вывод программы: <br />\n",
    "    * <br> \n",
    "    * * <br> \n",
    "    * * * <br> \n",
    "    * * * * <br> \n",
    "    * * * * * <br> \n",
    "    * * * * <br> \n",
    "    * * * <br> \n",
    "    * * <br> \n",
    "    * "
   ]
  },
  {
   "cell_type": "code",
   "execution_count": 31,
   "metadata": {},
   "outputs": [
    {
     "name": "stdout",
     "output_type": "stream",
     "text": [
      "\n",
      "* \n",
      "* * \n",
      "* * * \n",
      "* * * * \n",
      "* * * * * \n",
      "* * * * \n",
      "* * * \n",
      "* * \n",
      "* \n"
     ]
    }
   ],
   "source": [
    "n = 5\n",
    "for i in range(n):\n",
    "    for j in range(i):\n",
    "        print('*', end=' ')\n",
    "    print()\n",
    "    \n",
    "for i in range(n, 0, -1):\n",
    "    for j in range(i):\n",
    "        print('*', end=' ')\n",
    "    print()"
   ]
  },
  {
   "cell_type": "markdown",
   "metadata": {},
   "source": [
    "### Задачка 2 \n",
    "\n",
    "Хоббиты закончили рисовать звёздочки и снова вернулись в Морию. Теперь им интересно в какие годы между $2000$ и $2700$ происходили великие сражения. Напомним, что великие сражения происходили только в високосные годы (если его номер кратен 4, но не кратен 100, а также если он кратен 400).\n",
    "\n",
    "Перечислите все эти годы через запятую."
   ]
  },
  {
   "cell_type": "code",
   "execution_count": 32,
   "metadata": {},
   "outputs": [
    {
     "name": "stdout",
     "output_type": "stream",
     "text": [
      "2000,2004,2008,2012,2016,2020,2024,2028,2032,2036,2040,2044,2048,2052,2056,2060,2064,2068,2072,2076,2080,2084,2088,2092,2096,2100,2104,2108,2112,2116,2120,2124,2128,2132,2136,2140,2144,2148,2152,2156,2160,2164,2168,2172,2176,2180,2184,2188,2192,2196,2200,2204,2208,2212,2216,2220,2224,2228,2232,2236,2240,2244,2248,2252,2256,2260,2264,2268,2272,2276,2280,2284,2288,2292,2296,2300,2304,2308,2312,2316,2320,2324,2328,2332,2336,2340,2344,2348,2352,2356,2360,2364,2368,2372,2376,2380,2384,2388,2392,2396,2400,2404,2408,2412,2416,2420,2424,2428,2432,2436,2440,2444,2448,2452,2456,2460,2464,2468,2472,2476,2480,2484,2488,2492,2496,2500,2504,2508,2512,2516,2520,2524,2528,2532,2536,2540,2544,2548,2552,2556,2560,2564,2568,2572,2576,2580,2584,2588,2592,2596,2600,2604,2608,2612,2616,2620,2624,2628,2632,2636,2640,2644,2648,2652,2656,2660,2664,2668,2672,2676,2680,2684,2688,2692,2696,2700\n"
     ]
    }
   ],
   "source": [
    "great_years = []\n",
    "\n",
    "for year in range(2000, 2701):\n",
    "    if (year % 4 == 0 and year % 100 != 0) or year % 100 == 0:\n",
    "        great_years.append(str(year))\n",
    "        \n",
    "print(','.join(great_years))"
   ]
  },
  {
   "cell_type": "markdown",
   "metadata": {},
   "source": [
    "# 5. Функции\n",
    "\n",
    "Синтаксис:\n",
    "\n",
    "```python\n",
    "def название функции(список аргументов):\n",
    "    команды\n",
    "    return результат выполнения функции\n",
    "```\n",
    "\n",
    "То, что происходит внутри функции отделяется отступом."
   ]
  },
  {
   "cell_type": "code",
   "execution_count": 33,
   "metadata": {},
   "outputs": [],
   "source": [
    "def s(x, y):\n",
    "    return x+y"
   ]
  },
  {
   "cell_type": "code",
   "execution_count": 34,
   "metadata": {},
   "outputs": [
    {
     "data": {
      "text/plain": [
       "12"
      ]
     },
     "execution_count": 34,
     "metadata": {},
     "output_type": "execute_result"
    }
   ],
   "source": [
    "s(4, 8)"
   ]
  },
  {
   "cell_type": "code",
   "execution_count": 35,
   "metadata": {},
   "outputs": [
    {
     "data": {
      "text/plain": [
       "12"
      ]
     },
     "execution_count": 35,
     "metadata": {},
     "output_type": "execute_result"
    }
   ],
   "source": [
    "double = lambda x, y: x+y\n",
    "double(4, 8)"
   ]
  },
  {
   "cell_type": "code",
   "execution_count": 37,
   "metadata": {},
   "outputs": [
    {
     "name": "stdout",
     "output_type": "stream",
     "text": [
      "25 30 51 76\n"
     ]
    }
   ],
   "source": [
    "a = [25, 51, 76, 30]\n",
    "print(*sorted(a))"
   ]
  },
  {
   "cell_type": "code",
   "execution_count": 36,
   "metadata": {},
   "outputs": [
    {
     "name": "stdout",
     "output_type": "stream",
     "text": [
      "30 51 25 76\n"
     ]
    }
   ],
   "source": [
    "a = [25, 51, 76, 30]\n",
    "print(*sorted(a, key=lambda n: n % 10))"
   ]
  },
  {
   "cell_type": "markdown",
   "metadata": {},
   "source": [
    "### Задачка 1 \n",
    "\n",
    "Гендальф владеет могучим заклинанием, которое умеет разворачивать реки вспять. Хоббиты хотят обладать чем-то похожим. Поэтому они решили написать на питоне функцию, которая может разворачивать слова в обратном направлении. \n",
    "\n",
    "\n",
    "> Входные данные:<br />\n",
    "\"привет\"<br />\n",
    "\n",
    "> Вывод программы: <br />\n",
    "\"тевирп\"\n",
    "\n",
    "Помогите Хоббитам написать такую функцию."
   ]
  },
  {
   "cell_type": "code",
   "execution_count": 38,
   "metadata": {},
   "outputs": [
    {
     "data": {
      "text/plain": [
       "'тевирп'"
      ]
     },
     "execution_count": 38,
     "metadata": {},
     "output_type": "execute_result"
    }
   ],
   "source": [
    "def reverse_word(word):\n",
    "    a = ''\n",
    "    for char in range(len(word) - 1, -1, -1):\n",
    "        a += word[char]\n",
    "    return a\n",
    "\n",
    "reverse_word('привет')"
   ]
  },
  {
   "cell_type": "code",
   "execution_count": 39,
   "metadata": {},
   "outputs": [
    {
     "data": {
      "text/plain": [
       "'тевирп'"
      ]
     },
     "execution_count": 39,
     "metadata": {},
     "output_type": "execute_result"
    }
   ],
   "source": [
    "def reverse_word(word):\n",
    "    return ''.join(list(word)[::-1])\n",
    "\n",
    "reverse_word('привет')"
   ]
  },
  {
   "cell_type": "code",
   "execution_count": 40,
   "metadata": {},
   "outputs": [
    {
     "data": {
      "text/plain": [
       "[4, 3, 2, 1]"
      ]
     },
     "execution_count": 40,
     "metadata": {},
     "output_type": "execute_result"
    }
   ],
   "source": [
    "a=[1, 2, 3, 4]\n",
    "a[::-1]"
   ]
  },
  {
   "cell_type": "markdown",
   "metadata": {},
   "source": [
    "### Задачка 2 \n",
    "\n",
    "Голум ворвался в дом Фродо и творит страшные вещи. Чтобы одалеть Голума, Фродо нужна функция, которая генерирует случайные числа и считает среди них чётные и нечётные элементы. \n",
    "\n",
    "- Напишите функцию, которая принимает на вход число `n`, числа `a`, `b` и генерирует $n$ случайных числе с отрезка от $a$ до $b$."
   ]
  },
  {
   "cell_type": "code",
   "execution_count": 41,
   "metadata": {},
   "outputs": [
    {
     "data": {
      "text/plain": [
       "10"
      ]
     },
     "execution_count": 41,
     "metadata": {},
     "output_type": "execute_result"
    }
   ],
   "source": [
    "import random \n",
    "numbers = random.randint(0, 10)  # пример работы функции генерации числа\n",
    "numbers"
   ]
  },
  {
   "cell_type": "code",
   "execution_count": 42,
   "metadata": {},
   "outputs": [
    {
     "data": {
      "text/plain": [
       "[1, 3, 3, 2, 2]"
      ]
     },
     "execution_count": 42,
     "metadata": {},
     "output_type": "execute_result"
    }
   ],
   "source": [
    "def gen_numbers(n, a, b):\n",
    "    import random\n",
    "    numbers = [random.randint(a, b) for i in range(n)]\n",
    "    return numbers\n",
    "\n",
    "gen_numbers(5, 1, 3)"
   ]
  },
  {
   "cell_type": "markdown",
   "metadata": {},
   "source": [
    "- Напишите функцию для подсчета числа четных и нечетных чисел. На вход в неё идёт лист из чисел."
   ]
  },
  {
   "cell_type": "code",
   "execution_count": 47,
   "metadata": {},
   "outputs": [],
   "source": [
    "def func(numbers):\n",
    "    count_add = 0\n",
    "    cou = 0\n",
    "    for x in numbers:\n",
    "        if not x % 2:\n",
    "            cou += 1\n",
    "        else:\n",
    "            count_add += 1\n",
    "    \n",
    "    print('Кол-во нечетных чисел', cou)\n",
    "    print('Кол-во четных чисел', count_add)"
   ]
  },
  {
   "cell_type": "markdown",
   "metadata": {},
   "source": [
    "- запустите генерацию последовательности случайных чисел и посчитайте в ней четные и нечетные элементы"
   ]
  },
  {
   "cell_type": "code",
   "execution_count": 48,
   "metadata": {},
   "outputs": [
    {
     "name": "stdout",
     "output_type": "stream",
     "text": [
      "Кол-во нечетных чисел 539\n",
      "Кол-во четных чисел 461\n"
     ]
    }
   ],
   "source": [
    "func(gen_numbers(1000, 0, 10))"
   ]
  },
  {
   "cell_type": "markdown",
   "metadata": {},
   "source": [
    "Ура! Голум побеждён.\n",
    "\n",
    "-------\n",
    "\n",
    "Удалось ли хоббитам впечатлить Гендальфа или нет, ты узнаешь в домашнем задании к этому семинару :) "
   ]
  },
  {
   "cell_type": "markdown",
   "metadata": {},
   "source": [
    " "
   ]
  }
 ],
 "metadata": {
  "kernelspec": {
   "display_name": "Python 3 (ipykernel)",
   "language": "python",
   "name": "python3"
  },
  "language_info": {
   "codemirror_mode": {
    "name": "ipython",
    "version": 3
   },
   "file_extension": ".py",
   "mimetype": "text/x-python",
   "name": "python",
   "nbconvert_exporter": "python",
   "pygments_lexer": "ipython3",
   "version": "3.9.12"
  },
  "toc": {
   "base_numbering": 1,
   "nav_menu": {},
   "number_sections": false,
   "sideBar": true,
   "skip_h1_title": false,
   "title_cell": "Table of Contents",
   "title_sidebar": "Contents",
   "toc_cell": false,
   "toc_position": {
    "height": "calc(100% - 180px)",
    "left": "10px",
    "top": "150px",
    "width": "264.796875px"
   },
   "toc_section_display": true,
   "toc_window_display": true
  }
 },
 "nbformat": 4,
 "nbformat_minor": 2
}
